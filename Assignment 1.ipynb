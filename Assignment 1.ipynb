{
 "cells": [
  {
   "cell_type": "markdown",
   "id": "3885046f",
   "metadata": {},
   "source": [
    "# Q1"
   ]
  },
  {
   "cell_type": "markdown",
   "id": "2a9ff30f",
   "metadata": {},
   "source": [
    "# 1. In the below elements which of them are values or an expression? eg:- values can be integer or string and \t\texpressions will be mathematical operators.\n",
    "-  *\n",
    "- 'hello'\n",
    "- -87.8\n",
    "- -\n",
    "- / \n",
    "- +\n",
    "- 6 \n",
    "\n",
    "### Ans:\n",
    "\n",
    "Values: -87.8, 6, 'hello'\n",
    "    \n",
    "Expression: /, +, *, -"
   ]
  },
  {
   "cell_type": "markdown",
   "id": "750edfaf",
   "metadata": {},
   "source": [
    "# Q2"
   ]
  },
  {
   "cell_type": "markdown",
   "id": "6ed8f2f4",
   "metadata": {},
   "source": [
    "# 2. What is the difference between string and variable?\n",
    "\n",
    "\n",
    "### Ans:\n",
    "\n",
    "A String is usually words, enclosed with \"\" Eg String x =\"Harshwardhan\" \n",
    "\n",
    "X is the Variable, and we declared it as a String, use the single = to assign the text to it. \n",
    "\n",
    "Examples:\n",
    "\n",
    "string_name = \"Harshwardhan\"\n",
    "\n",
    "var_name = 2001"
   ]
  },
  {
   "cell_type": "markdown",
   "id": "dbb0864f",
   "metadata": {},
   "source": [
    "# Q3"
   ]
  },
  {
   "cell_type": "markdown",
   "id": "46d31808",
   "metadata": {},
   "source": [
    "\n",
    "# 3. Describe three different data types.\n",
    "\n",
    "\n",
    "### Ans:\n",
    "\n",
    "Three different data types\n",
    "\n",
    "\n",
    "\n",
    "1. int()\n",
    "\n",
    "\n",
    "\tRepresents whole numbers, e.g., 10, -5, 0.\n",
    "    \n",
    "    \n",
    "2. float()\n",
    "\n",
    "\n",
    "\tRepresents decimal numbers or numbers with fractional parts, e.g., 3.14, -0.5.\n",
    "    \n",
    "    \n",
    "3. str()\n",
    "\n",
    "\n",
    "\tRepresents a sequence of characters enclosed in single quotes (' ') or double quotes (\" \")."
   ]
  },
  {
   "cell_type": "markdown",
   "id": "158ee888",
   "metadata": {},
   "source": [
    "# Q4"
   ]
  },
  {
   "cell_type": "markdown",
   "id": "d9d13e85",
   "metadata": {},
   "source": [
    "# 4. What is an expression made up of? What do all expressions do?\n",
    "\n",
    "\n",
    "### Ans:\n",
    "\n",
    "1. An expression in Python is made up of a combination of values, variables, operators, and function calls.\n",
    "2. It represents a computation or operation that can be evaluated to produce a value.\n",
    "\n",
    "What do all expressions do?\n",
    "\n",
    "1. Expressions can be evaluated to produce a value. \n",
    "2. When an expression is executed, Python follows the rules of precedence and associativity to perform the \t\t\tnecessary computations and return a result.\n"
   ]
  },
  {
   "cell_type": "markdown",
   "id": "8eca978f",
   "metadata": {},
   "source": [
    "# Q5"
   ]
  },
  {
   "cell_type": "markdown",
   "id": "120a2786",
   "metadata": {},
   "source": [
    "# 5. This assignment statements, like spam = 10. What is the difference between an expression and a statement?\n",
    "\n",
    "\n",
    "### Ans:\n",
    "\n",
    "1. In Python, an expression is a combination of values, variables, operators, and function calls that evaluates to \ta single value. \n",
    "\n",
    "2. Expression produces a result or value when executed. \n",
    "\n",
    "\n",
    "3. Statement is a unit of code that performs an action or a sequence of actions. It is a complete instruction that \tPython can execute.\n",
    "\n",
    "4. Statements do not produce a value or result."
   ]
  },
  {
   "cell_type": "markdown",
   "id": "3775dc73",
   "metadata": {},
   "source": [
    "# Q6"
   ]
  },
  {
   "cell_type": "markdown",
   "id": "096b59b4",
   "metadata": {},
   "source": [
    "# 6. After running the following code, what does the variable bacon contain?\n",
    "\n",
    "### Ans:\n",
    "\n",
    "bacon = 22 \n",
    "\n",
    "bacon + 1\n",
    "\n",
    "\n",
    "Ans: \n",
    "\n",
    "23\n",
    "\n",
    "Explanation:\n",
    "\n",
    "22 is store in variable bacon and we are adding + 1 to bacon variable"
   ]
  },
  {
   "cell_type": "code",
   "execution_count": 3,
   "id": "3babadbc",
   "metadata": {},
   "outputs": [
    {
     "data": {
      "text/plain": [
       "23"
      ]
     },
     "execution_count": 3,
     "metadata": {},
     "output_type": "execute_result"
    }
   ],
   "source": [
    "bacon = 22\n",
    "bacon + 1"
   ]
  },
  {
   "cell_type": "markdown",
   "id": "da8299d1",
   "metadata": {},
   "source": [
    "# Q7"
   ]
  },
  {
   "cell_type": "markdown",
   "id": "78351017",
   "metadata": {},
   "source": [
    "# 7. What should the values of the following two terms be?\n",
    "\n",
    "### Ans:\n",
    "\n",
    "'spam' + 'spamspam'\n",
    "\n",
    "'spam' * 3\n",
    "\n",
    "\n",
    "Ans: \n",
    "\n",
    "Here both are string hence it will concatenate\n",
    "\n",
    "'spam' + 'spamspam' --->  'spamspamspam'\n",
    "\n",
    "Here we are multipling the string * 3\n",
    "\n",
    "'spam' * 3 ------------>  'spamspamspam'\n"
   ]
  },
  {
   "cell_type": "code",
   "execution_count": 4,
   "id": "9ccea39b",
   "metadata": {},
   "outputs": [
    {
     "data": {
      "text/plain": [
       "'spamspamspam'"
      ]
     },
     "execution_count": 4,
     "metadata": {},
     "output_type": "execute_result"
    }
   ],
   "source": [
    "'spam' + 'spamspam'"
   ]
  },
  {
   "cell_type": "code",
   "execution_count": 5,
   "id": "bff02edf",
   "metadata": {},
   "outputs": [
    {
     "data": {
      "text/plain": [
       "'spamspamspam'"
      ]
     },
     "execution_count": 5,
     "metadata": {},
     "output_type": "execute_result"
    }
   ],
   "source": [
    "'spam' * 3"
   ]
  },
  {
   "cell_type": "markdown",
   "id": "84fc3fa3",
   "metadata": {},
   "source": [
    "# Q8"
   ]
  },
  {
   "cell_type": "markdown",
   "id": "0db2775d",
   "metadata": {},
   "source": [
    "# 8. Why is eggs a valid variable name while 100 is invalid?\n",
    "\n",
    "\n",
    "### Ans:\n",
    "\n",
    "In python we cannot write or start variable name with numerical value\n",
    "\n",
    "Method to declare variable:\n",
    "\n",
    "1. a = 10\n",
    "2. _a = 10\n",
    "3. _1a = 10\n",
    "4. a_ = 10\n",
    "5. a_1 = 10"
   ]
  },
  {
   "cell_type": "markdown",
   "id": "f79bf3e8",
   "metadata": {},
   "source": [
    "# Q9"
   ]
  },
  {
   "cell_type": "markdown",
   "id": "ac96c07d",
   "metadata": {},
   "source": [
    "# 9. What three functions can be used to get the integer, floating-point number, or string version of a value?\n",
    "\n",
    "\n",
    "### Ans:\n",
    "\n",
    "a = \"10\"\n",
    "\n",
    "1. int()\n",
    "\n",
    "\ta = int(10)\n",
    "    \n",
    "    \n",
    "2. float()\n",
    "\n",
    "\ta = float(10)\n",
    "    \n",
    "    \n",
    "3. str()\n",
    "\n",
    "\ta = str(10)"
   ]
  },
  {
   "cell_type": "markdown",
   "id": "6a96b6b6",
   "metadata": {},
   "source": [
    "# Q10"
   ]
  },
  {
   "cell_type": "markdown",
   "id": "bdd227dc",
   "metadata": {},
   "source": [
    "# 10. Why does this expression cause an error? How can you fix it?\n",
    "\n",
    "### Ans:\n",
    "\n",
    "'I have eaten ' + 99 + ' burritos.'\n",
    "\n",
    "\n",
    "Ans: \n",
    "\n",
    "'I have eaten ' + 99 + ' burritos.'\n",
    "\n",
    "This will display ERROR because in pyton we cannot concatenate str and int only str and str will concatenate\n",
    "\n",
    "we can fix it by converting the no. 99 to string '99'"
   ]
  },
  {
   "cell_type": "code",
   "execution_count": 9,
   "id": "3c7bd6ff",
   "metadata": {},
   "outputs": [
    {
     "data": {
      "text/plain": [
       "'I have eaten 99 burritos.'"
      ]
     },
     "execution_count": 9,
     "metadata": {},
     "output_type": "execute_result"
    }
   ],
   "source": [
    "'I have eaten ' + '99' + ' burritos.'"
   ]
  },
  {
   "cell_type": "code",
   "execution_count": null,
   "id": "a81f3f4a",
   "metadata": {},
   "outputs": [],
   "source": []
  }
 ],
 "metadata": {
  "kernelspec": {
   "display_name": "Python 3.10 (tensorflow)",
   "language": "python",
   "name": "tensorflow"
  },
  "language_info": {
   "codemirror_mode": {
    "name": "ipython",
    "version": 3
   },
   "file_extension": ".py",
   "mimetype": "text/x-python",
   "name": "python",
   "nbconvert_exporter": "python",
   "pygments_lexer": "ipython3",
   "version": "3.10.10"
  }
 },
 "nbformat": 4,
 "nbformat_minor": 5
}
